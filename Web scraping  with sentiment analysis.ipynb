{
 "cells": [
  {
   "cell_type": "code",
   "execution_count": 1,
   "metadata": {},
   "outputs": [],
   "source": [
    "#Webscraping\n",
    "from bs4 import BeautifulSoup"
   ]
  },
  {
   "cell_type": "code",
   "execution_count": 8,
   "metadata": {},
   "outputs": [],
   "source": [
    "html_file = open('C:\\Jupyter\\Scraping.html','r')"
   ]
  },
  {
   "cell_type": "code",
   "execution_count": 10,
   "metadata": {},
   "outputs": [
    {
     "name": "stdout",
     "output_type": "stream",
     "text": [
      "Python is awesome\n",
      "Laptop is cool is device\n",
      "macbook is too much costly\n",
      "Iphone is worst\n",
      "android is best\n"
     ]
    }
   ],
   "source": [
    "page = html_file.read()\n",
    "\n",
    "soup = BeautifulSoup(page, 'html.parser')\n",
    "\n",
    "reviews = soup.find_all('p')\n",
    "\n",
    "for p in reviews:\n",
    "    print (p.get_text())"
   ]
  },
  {
   "cell_type": "code",
   "execution_count": 12,
   "metadata": {},
   "outputs": [
    {
     "name": "stdout",
     "output_type": "stream",
     "text": [
      "postive review 4\n",
      "negative review 1\n"
     ]
    }
   ],
   "source": [
    "#Webscraping with sentiment analysis\n",
    "from textblob import TextBlob\n",
    "pos,neg =0, 0 \n",
    "for p in reviews:\n",
    "    text = p.get_text()\n",
    "    sentiment = TextBlob(text).sentiment.polarity\n",
    "    if(sentiment >=0):\n",
    "        pos+=1\n",
    "    else:\n",
    "        neg+=1\n",
    "        \n",
    "print (\"postive review\",pos)\n",
    "print (\"negative review\",neg)"
   ]
  },
  {
   "cell_type": "code",
   "execution_count": null,
   "metadata": {},
   "outputs": [],
   "source": []
  }
 ],
 "metadata": {
  "kernelspec": {
   "display_name": "Python 3",
   "language": "python",
   "name": "python3"
  },
  "language_info": {
   "codemirror_mode": {
    "name": "ipython",
    "version": 3
   },
   "file_extension": ".py",
   "mimetype": "text/x-python",
   "name": "python",
   "nbconvert_exporter": "python",
   "pygments_lexer": "ipython3",
   "version": "3.6.4"
  }
 },
 "nbformat": 4,
 "nbformat_minor": 2
}
